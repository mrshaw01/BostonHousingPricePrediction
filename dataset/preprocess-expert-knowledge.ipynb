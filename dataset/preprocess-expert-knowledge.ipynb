{
 "cells": [
  {
   "cell_type": "markdown",
   "id": "e9bb3b4b",
   "metadata": {},
   "source": [
    "# Preprocess dataset by expert knowledge"
   ]
  },
  {
   "cell_type": "markdown",
   "id": "c963e6e9",
   "metadata": {},
   "source": [
    "### Load original dataset from csv file"
   ]
  },
  {
   "cell_type": "code",
   "execution_count": 1,
   "id": "46fa6e42",
   "metadata": {},
   "outputs": [
    {
     "data": {
      "application/javascript": [
       "\n",
       "            setTimeout(function() {\n",
       "                var nbb_cell_id = 1;\n",
       "                var nbb_unformatted_code = \"%load_ext nb_black\";\n",
       "                var nbb_formatted_code = \"%load_ext nb_black\";\n",
       "                var nbb_cells = Jupyter.notebook.get_cells();\n",
       "                for (var i = 0; i < nbb_cells.length; ++i) {\n",
       "                    if (nbb_cells[i].input_prompt_number == nbb_cell_id) {\n",
       "                        if (nbb_cells[i].get_text() == nbb_unformatted_code) {\n",
       "                             nbb_cells[i].set_text(nbb_formatted_code);\n",
       "                        }\n",
       "                        break;\n",
       "                    }\n",
       "                }\n",
       "            }, 500);\n",
       "            "
      ],
      "text/plain": [
       "<IPython.core.display.Javascript object>"
      ]
     },
     "metadata": {},
     "output_type": "display_data"
    }
   ],
   "source": [
    "%load_ext nb_black"
   ]
  },
  {
   "cell_type": "code",
   "execution_count": 2,
   "id": "b6c8a501",
   "metadata": {},
   "outputs": [
    {
     "data": {
      "application/javascript": [
       "\n",
       "            setTimeout(function() {\n",
       "                var nbb_cell_id = 2;\n",
       "                var nbb_unformatted_code = \"import pandas as pd\\nimport category_encoders as ce\";\n",
       "                var nbb_formatted_code = \"import pandas as pd\\nimport category_encoders as ce\";\n",
       "                var nbb_cells = Jupyter.notebook.get_cells();\n",
       "                for (var i = 0; i < nbb_cells.length; ++i) {\n",
       "                    if (nbb_cells[i].input_prompt_number == nbb_cell_id) {\n",
       "                        if (nbb_cells[i].get_text() == nbb_unformatted_code) {\n",
       "                             nbb_cells[i].set_text(nbb_formatted_code);\n",
       "                        }\n",
       "                        break;\n",
       "                    }\n",
       "                }\n",
       "            }, 500);\n",
       "            "
      ],
      "text/plain": [
       "<IPython.core.display.Javascript object>"
      ]
     },
     "metadata": {},
     "output_type": "display_data"
    }
   ],
   "source": [
    "import pandas as pd\n",
    "import category_encoders as ce"
   ]
  },
  {
   "cell_type": "code",
   "execution_count": 3,
   "id": "c0aa28a5",
   "metadata": {},
   "outputs": [
    {
     "name": "stdout",
     "output_type": "stream",
     "text": [
      "82497 instances\n"
     ]
    },
    {
     "data": {
      "text/html": [
       "<div>\n",
       "<style scoped>\n",
       "    .dataframe tbody tr th:only-of-type {\n",
       "        vertical-align: middle;\n",
       "    }\n",
       "\n",
       "    .dataframe tbody tr th {\n",
       "        vertical-align: top;\n",
       "    }\n",
       "\n",
       "    .dataframe thead th {\n",
       "        text-align: right;\n",
       "    }\n",
       "</style>\n",
       "<table border=\"1\" class=\"dataframe\">\n",
       "  <thead>\n",
       "    <tr style=\"text-align: right;\">\n",
       "      <th></th>\n",
       "      <th>Unnamed: 0</th>\n",
       "      <th>Ngày</th>\n",
       "      <th>Địa chỉ</th>\n",
       "      <th>Quận</th>\n",
       "      <th>Huyện</th>\n",
       "      <th>Loại hình nhà ở</th>\n",
       "      <th>Giấy tờ pháp lý</th>\n",
       "      <th>Số tầng</th>\n",
       "      <th>Số phòng ngủ</th>\n",
       "      <th>Diện tích</th>\n",
       "      <th>Dài</th>\n",
       "      <th>Rộng</th>\n",
       "      <th>Giá/m2</th>\n",
       "    </tr>\n",
       "  </thead>\n",
       "  <tbody>\n",
       "    <tr>\n",
       "      <th>0</th>\n",
       "      <td>0.0</td>\n",
       "      <td>2020-08-05</td>\n",
       "      <td>Đường Hoàng Quốc Việt, Phường Nghĩa Đô, Quận C...</td>\n",
       "      <td>Quận Cầu Giấy</td>\n",
       "      <td>Phường Nghĩa Đô</td>\n",
       "      <td>Nhà ngõ, hẻm</td>\n",
       "      <td>Đã có sổ</td>\n",
       "      <td>4</td>\n",
       "      <td>5 phòng</td>\n",
       "      <td>46 m²</td>\n",
       "      <td>NaN</td>\n",
       "      <td>NaN</td>\n",
       "      <td>86,96 triệu/m²</td>\n",
       "    </tr>\n",
       "    <tr>\n",
       "      <th>1</th>\n",
       "      <td>1.0</td>\n",
       "      <td>2020-08-05</td>\n",
       "      <td>Đường Kim Giang, Phường Kim Giang, Quận Thanh ...</td>\n",
       "      <td>Quận Thanh Xuân</td>\n",
       "      <td>Phường Kim Giang</td>\n",
       "      <td>Nhà mặt phố, mặt tiền</td>\n",
       "      <td>NaN</td>\n",
       "      <td>NaN</td>\n",
       "      <td>3 phòng</td>\n",
       "      <td>37 m²</td>\n",
       "      <td>NaN</td>\n",
       "      <td>NaN</td>\n",
       "      <td>116,22 triệu/m²</td>\n",
       "    </tr>\n",
       "    <tr>\n",
       "      <th>2</th>\n",
       "      <td>2.0</td>\n",
       "      <td>2020-08-05</td>\n",
       "      <td>phố minh khai, Phường Minh Khai, Quận Hai Bà T...</td>\n",
       "      <td>Quận Hai Bà Trưng</td>\n",
       "      <td>Phường Minh Khai</td>\n",
       "      <td>Nhà ngõ, hẻm</td>\n",
       "      <td>Đã có sổ</td>\n",
       "      <td>4</td>\n",
       "      <td>4 phòng</td>\n",
       "      <td>40 m²</td>\n",
       "      <td>10 m</td>\n",
       "      <td>4 m</td>\n",
       "      <td>65 triệu/m²</td>\n",
       "    </tr>\n",
       "    <tr>\n",
       "      <th>3</th>\n",
       "      <td>3.0</td>\n",
       "      <td>2020-08-05</td>\n",
       "      <td>Đường Võng Thị, Phường Thụy Khuê, Quận Tây Hồ,...</td>\n",
       "      <td>Quận Tây Hồ</td>\n",
       "      <td>Phường Thụy Khuê</td>\n",
       "      <td>Nhà ngõ, hẻm</td>\n",
       "      <td>Đã có sổ</td>\n",
       "      <td>NaN</td>\n",
       "      <td>6 phòng</td>\n",
       "      <td>51 m²</td>\n",
       "      <td>12.75 m</td>\n",
       "      <td>4 m</td>\n",
       "      <td>100 triệu/m²</td>\n",
       "    </tr>\n",
       "    <tr>\n",
       "      <th>4</th>\n",
       "      <td>4.0</td>\n",
       "      <td>2020-08-05</td>\n",
       "      <td>Đường Kim Giang, Phường Kim Giang, Quận Thanh ...</td>\n",
       "      <td>Quận Thanh Xuân</td>\n",
       "      <td>Phường Kim Giang</td>\n",
       "      <td>Nhà ngõ, hẻm</td>\n",
       "      <td>NaN</td>\n",
       "      <td>NaN</td>\n",
       "      <td>4 phòng</td>\n",
       "      <td>36 m²</td>\n",
       "      <td>9 m</td>\n",
       "      <td>4 m</td>\n",
       "      <td>86,11 triệu/m²</td>\n",
       "    </tr>\n",
       "  </tbody>\n",
       "</table>\n",
       "</div>"
      ],
      "text/plain": [
       "   Unnamed: 0        Ngày                                            Địa chỉ  \\\n",
       "0         0.0  2020-08-05  Đường Hoàng Quốc Việt, Phường Nghĩa Đô, Quận C...   \n",
       "1         1.0  2020-08-05  Đường Kim Giang, Phường Kim Giang, Quận Thanh ...   \n",
       "2         2.0  2020-08-05  phố minh khai, Phường Minh Khai, Quận Hai Bà T...   \n",
       "3         3.0  2020-08-05  Đường Võng Thị, Phường Thụy Khuê, Quận Tây Hồ,...   \n",
       "4         4.0  2020-08-05  Đường Kim Giang, Phường Kim Giang, Quận Thanh ...   \n",
       "\n",
       "                Quận             Huyện        Loại hình nhà ở Giấy tờ pháp lý  \\\n",
       "0      Quận Cầu Giấy   Phường Nghĩa Đô           Nhà ngõ, hẻm        Đã có sổ   \n",
       "1    Quận Thanh Xuân  Phường Kim Giang  Nhà mặt phố, mặt tiền             NaN   \n",
       "2  Quận Hai Bà Trưng  Phường Minh Khai           Nhà ngõ, hẻm        Đã có sổ   \n",
       "3        Quận Tây Hồ  Phường Thụy Khuê           Nhà ngõ, hẻm        Đã có sổ   \n",
       "4    Quận Thanh Xuân  Phường Kim Giang           Nhà ngõ, hẻm             NaN   \n",
       "\n",
       "  Số tầng Số phòng ngủ Diện tích      Dài Rộng           Giá/m2  \n",
       "0       4      5 phòng     46 m²      NaN  NaN   86,96 triệu/m²  \n",
       "1     NaN      3 phòng     37 m²      NaN  NaN  116,22 triệu/m²  \n",
       "2       4      4 phòng     40 m²     10 m  4 m      65 triệu/m²  \n",
       "3     NaN      6 phòng     51 m²  12.75 m  4 m     100 triệu/m²  \n",
       "4     NaN      4 phòng     36 m²      9 m  4 m   86,11 triệu/m²  "
      ]
     },
     "metadata": {},
     "output_type": "display_data"
    },
    {
     "data": {
      "application/javascript": [
       "\n",
       "            setTimeout(function() {\n",
       "                var nbb_cell_id = 3;\n",
       "                var nbb_unformatted_code = \"df = pd.read_csv(\\\"VN_housing_dataset.csv\\\")\\n\\nprint(f\\\"{len(df)} instances\\\")\\ndisplay(df.head())\";\n",
       "                var nbb_formatted_code = \"df = pd.read_csv(\\\"VN_housing_dataset.csv\\\")\\n\\nprint(f\\\"{len(df)} instances\\\")\\ndisplay(df.head())\";\n",
       "                var nbb_cells = Jupyter.notebook.get_cells();\n",
       "                for (var i = 0; i < nbb_cells.length; ++i) {\n",
       "                    if (nbb_cells[i].input_prompt_number == nbb_cell_id) {\n",
       "                        if (nbb_cells[i].get_text() == nbb_unformatted_code) {\n",
       "                             nbb_cells[i].set_text(nbb_formatted_code);\n",
       "                        }\n",
       "                        break;\n",
       "                    }\n",
       "                }\n",
       "            }, 500);\n",
       "            "
      ],
      "text/plain": [
       "<IPython.core.display.Javascript object>"
      ]
     },
     "metadata": {},
     "output_type": "display_data"
    }
   ],
   "source": [
    "df = pd.read_csv(\"VN_housing_dataset.csv\")\n",
    "\n",
    "print(f\"{len(df)} instances\")\n",
    "display(df.head())"
   ]
  },
  {
   "cell_type": "markdown",
   "id": "eeb9d291",
   "metadata": {},
   "source": [
    "### Drop all nan value, unnamed columns, sale date, address"
   ]
  },
  {
   "cell_type": "code",
   "execution_count": 4,
   "id": "454d1024",
   "metadata": {},
   "outputs": [
    {
     "data": {
      "application/javascript": [
       "\n",
       "            setTimeout(function() {\n",
       "                var nbb_cell_id = 4;\n",
       "                var nbb_unformatted_code = \"df = df.drop(columns=[\\\"Unnamed: 0\\\", \\\"Ng\\u00e0y\\\", \\\"\\u0110\\u1ecba ch\\u1ec9\\\"])\\ndf = df.dropna()\";\n",
       "                var nbb_formatted_code = \"df = df.drop(columns=[\\\"Unnamed: 0\\\", \\\"Ng\\u00e0y\\\", \\\"\\u0110\\u1ecba ch\\u1ec9\\\"])\\ndf = df.dropna()\";\n",
       "                var nbb_cells = Jupyter.notebook.get_cells();\n",
       "                for (var i = 0; i < nbb_cells.length; ++i) {\n",
       "                    if (nbb_cells[i].input_prompt_number == nbb_cell_id) {\n",
       "                        if (nbb_cells[i].get_text() == nbb_unformatted_code) {\n",
       "                             nbb_cells[i].set_text(nbb_formatted_code);\n",
       "                        }\n",
       "                        break;\n",
       "                    }\n",
       "                }\n",
       "            }, 500);\n",
       "            "
      ],
      "text/plain": [
       "<IPython.core.display.Javascript object>"
      ]
     },
     "metadata": {},
     "output_type": "display_data"
    }
   ],
   "source": [
    "df = df.drop(columns=[\"Unnamed: 0\", \"Ngày\", \"Địa chỉ\"])\n",
    "df = df.dropna()"
   ]
  },
  {
   "cell_type": "markdown",
   "id": "48d06377",
   "metadata": {},
   "source": [
    "### Filter out price (million/m2)"
   ]
  },
  {
   "cell_type": "code",
   "execution_count": 5,
   "id": "100ca545",
   "metadata": {},
   "outputs": [
    {
     "data": {
      "application/javascript": [
       "\n",
       "            setTimeout(function() {\n",
       "                var nbb_cell_id = 5;\n",
       "                var nbb_unformatted_code = \"df = df[df[\\\"Gi\\u00e1/m2\\\"].str.contains(\\\"tri\\u1ec7u/m\\u00b2\\\")]\\ndf[\\\"Gi\\u00e1/m2\\\"] = [float(x.replace(\\\",\\\", \\\".\\\").split()[0]) for x in list(df[\\\"Gi\\u00e1/m2\\\"])]\";\n",
       "                var nbb_formatted_code = \"df = df[df[\\\"Gi\\u00e1/m2\\\"].str.contains(\\\"tri\\u1ec7u/m\\u00b2\\\")]\\ndf[\\\"Gi\\u00e1/m2\\\"] = [float(x.replace(\\\",\\\", \\\".\\\").split()[0]) for x in list(df[\\\"Gi\\u00e1/m2\\\"])]\";\n",
       "                var nbb_cells = Jupyter.notebook.get_cells();\n",
       "                for (var i = 0; i < nbb_cells.length; ++i) {\n",
       "                    if (nbb_cells[i].input_prompt_number == nbb_cell_id) {\n",
       "                        if (nbb_cells[i].get_text() == nbb_unformatted_code) {\n",
       "                             nbb_cells[i].set_text(nbb_formatted_code);\n",
       "                        }\n",
       "                        break;\n",
       "                    }\n",
       "                }\n",
       "            }, 500);\n",
       "            "
      ],
      "text/plain": [
       "<IPython.core.display.Javascript object>"
      ]
     },
     "metadata": {},
     "output_type": "display_data"
    }
   ],
   "source": [
    "df = df[df[\"Giá/m2\"].str.contains(\"triệu/m²\")]\n",
    "df[\"Giá/m2\"] = [float(x.replace(\",\", \".\").split()[0]) for x in list(df[\"Giá/m2\"])]"
   ]
  },
  {
   "cell_type": "markdown",
   "id": "d14e1caa",
   "metadata": {},
   "source": [
    "### Filter out area(s), length(l), width(w)\n",
    "Remove the lands that have a 25% difference in area from length * width."
   ]
  },
  {
   "cell_type": "code",
   "execution_count": 6,
   "id": "537cbe04",
   "metadata": {},
   "outputs": [
    {
     "data": {
      "application/javascript": [
       "\n",
       "            setTimeout(function() {\n",
       "                var nbb_cell_id = 6;\n",
       "                var nbb_unformatted_code = \"eps_s = 0.25\\ndf[\\\"Di\\u1ec7n t\\u00edch\\\"] = [float(x.split()[0]) for x in list(df[\\\"Di\\u1ec7n t\\u00edch\\\"])]\\ndf[\\\"D\\u00e0i\\\"] = [float(x.split()[0]) for x in list(df[\\\"D\\u00e0i\\\"])]\\ndf[\\\"R\\u1ed9ng\\\"] = [float(x.split()[0]) for x in list(df[\\\"R\\u1ed9ng\\\"])]\\nlower = df[df[\\\"D\\u00e0i\\\"] * df[\\\"R\\u1ed9ng\\\"] * (1 - eps_s) > df[\\\"Di\\u1ec7n t\\u00edch\\\"]].index\\ndf = df.drop(lower)\\nupper = df[df[\\\"D\\u00e0i\\\"] * df[\\\"R\\u1ed9ng\\\"] * (1 + eps_s) < df[\\\"Di\\u1ec7n t\\u00edch\\\"]].index\\ndf = df.drop(upper)\";\n",
       "                var nbb_formatted_code = \"eps_s = 0.25\\ndf[\\\"Di\\u1ec7n t\\u00edch\\\"] = [float(x.split()[0]) for x in list(df[\\\"Di\\u1ec7n t\\u00edch\\\"])]\\ndf[\\\"D\\u00e0i\\\"] = [float(x.split()[0]) for x in list(df[\\\"D\\u00e0i\\\"])]\\ndf[\\\"R\\u1ed9ng\\\"] = [float(x.split()[0]) for x in list(df[\\\"R\\u1ed9ng\\\"])]\\nlower = df[df[\\\"D\\u00e0i\\\"] * df[\\\"R\\u1ed9ng\\\"] * (1 - eps_s) > df[\\\"Di\\u1ec7n t\\u00edch\\\"]].index\\ndf = df.drop(lower)\\nupper = df[df[\\\"D\\u00e0i\\\"] * df[\\\"R\\u1ed9ng\\\"] * (1 + eps_s) < df[\\\"Di\\u1ec7n t\\u00edch\\\"]].index\\ndf = df.drop(upper)\";\n",
       "                var nbb_cells = Jupyter.notebook.get_cells();\n",
       "                for (var i = 0; i < nbb_cells.length; ++i) {\n",
       "                    if (nbb_cells[i].input_prompt_number == nbb_cell_id) {\n",
       "                        if (nbb_cells[i].get_text() == nbb_unformatted_code) {\n",
       "                             nbb_cells[i].set_text(nbb_formatted_code);\n",
       "                        }\n",
       "                        break;\n",
       "                    }\n",
       "                }\n",
       "            }, 500);\n",
       "            "
      ],
      "text/plain": [
       "<IPython.core.display.Javascript object>"
      ]
     },
     "metadata": {},
     "output_type": "display_data"
    }
   ],
   "source": [
    "eps_s = 0.25\n",
    "df[\"Diện tích\"] = [float(x.split()[0]) for x in list(df[\"Diện tích\"])]\n",
    "df[\"Dài\"] = [float(x.split()[0]) for x in list(df[\"Dài\"])]\n",
    "df[\"Rộng\"] = [float(x.split()[0]) for x in list(df[\"Rộng\"])]\n",
    "lower = df[df[\"Dài\"] * df[\"Rộng\"] * (1 - eps_s) > df[\"Diện tích\"]].index\n",
    "df = df.drop(lower)\n",
    "upper = df[df[\"Dài\"] * df[\"Rộng\"] * (1 + eps_s) < df[\"Diện tích\"]].index\n",
    "df = df.drop(upper)"
   ]
  },
  {
   "cell_type": "markdown",
   "id": "807f280f",
   "metadata": {},
   "source": [
    "### Filter out number of bedrooms (nb)\n",
    "Drop out all instances i such that: nb >= 10"
   ]
  },
  {
   "cell_type": "code",
   "execution_count": 7,
   "id": "d8e548c0",
   "metadata": {},
   "outputs": [
    {
     "data": {
      "application/javascript": [
       "\n",
       "            setTimeout(function() {\n",
       "                var nbb_cell_id = 7;\n",
       "                var nbb_unformatted_code = \"df = df.drop(df[df[\\\"S\\u1ed1 ph\\u00f2ng ng\\u1ee7\\\"] == \\\"nhi\\u1ec1u h\\u01a1n 10 ph\\u00f2ng\\\"].index)\\ndf[\\\"S\\u1ed1 ph\\u00f2ng ng\\u1ee7\\\"] = [float(x.split()[0]) for x in list(df[\\\"S\\u1ed1 ph\\u00f2ng ng\\u1ee7\\\"])]\";\n",
       "                var nbb_formatted_code = \"df = df.drop(df[df[\\\"S\\u1ed1 ph\\u00f2ng ng\\u1ee7\\\"] == \\\"nhi\\u1ec1u h\\u01a1n 10 ph\\u00f2ng\\\"].index)\\ndf[\\\"S\\u1ed1 ph\\u00f2ng ng\\u1ee7\\\"] = [float(x.split()[0]) for x in list(df[\\\"S\\u1ed1 ph\\u00f2ng ng\\u1ee7\\\"])]\";\n",
       "                var nbb_cells = Jupyter.notebook.get_cells();\n",
       "                for (var i = 0; i < nbb_cells.length; ++i) {\n",
       "                    if (nbb_cells[i].input_prompt_number == nbb_cell_id) {\n",
       "                        if (nbb_cells[i].get_text() == nbb_unformatted_code) {\n",
       "                             nbb_cells[i].set_text(nbb_formatted_code);\n",
       "                        }\n",
       "                        break;\n",
       "                    }\n",
       "                }\n",
       "            }, 500);\n",
       "            "
      ],
      "text/plain": [
       "<IPython.core.display.Javascript object>"
      ]
     },
     "metadata": {},
     "output_type": "display_data"
    }
   ],
   "source": [
    "df = df.drop(df[df[\"Số phòng ngủ\"] == \"nhiều hơn 10 phòng\"].index)\n",
    "df[\"Số phòng ngủ\"] = [float(x.split()[0]) for x in list(df[\"Số phòng ngủ\"])]"
   ]
  },
  {
   "cell_type": "markdown",
   "id": "281ea585",
   "metadata": {},
   "source": [
    "### Filter out number of floor (nf)\n",
    "Drop out all instances i such that: nf >= 10\n"
   ]
  },
  {
   "cell_type": "code",
   "execution_count": 8,
   "id": "beac4aba",
   "metadata": {},
   "outputs": [
    {
     "data": {
      "application/javascript": [
       "\n",
       "            setTimeout(function() {\n",
       "                var nbb_cell_id = 8;\n",
       "                var nbb_unformatted_code = \"df = df.drop(df[df[\\\"S\\u1ed1 t\\u1ea7ng\\\"] == \\\"Nhi\\u1ec1u h\\u01a1n 10\\\"].index)\\ndf[\\\"S\\u1ed1 t\\u1ea7ng\\\"] = [float(x) for x in list(df[\\\"S\\u1ed1 t\\u1ea7ng\\\"])]\\ndf = df.drop(df[df[\\\"S\\u1ed1 t\\u1ea7ng\\\"] > 10].index)\";\n",
       "                var nbb_formatted_code = \"df = df.drop(df[df[\\\"S\\u1ed1 t\\u1ea7ng\\\"] == \\\"Nhi\\u1ec1u h\\u01a1n 10\\\"].index)\\ndf[\\\"S\\u1ed1 t\\u1ea7ng\\\"] = [float(x) for x in list(df[\\\"S\\u1ed1 t\\u1ea7ng\\\"])]\\ndf = df.drop(df[df[\\\"S\\u1ed1 t\\u1ea7ng\\\"] > 10].index)\";\n",
       "                var nbb_cells = Jupyter.notebook.get_cells();\n",
       "                for (var i = 0; i < nbb_cells.length; ++i) {\n",
       "                    if (nbb_cells[i].input_prompt_number == nbb_cell_id) {\n",
       "                        if (nbb_cells[i].get_text() == nbb_unformatted_code) {\n",
       "                             nbb_cells[i].set_text(nbb_formatted_code);\n",
       "                        }\n",
       "                        break;\n",
       "                    }\n",
       "                }\n",
       "            }, 500);\n",
       "            "
      ],
      "text/plain": [
       "<IPython.core.display.Javascript object>"
      ]
     },
     "metadata": {},
     "output_type": "display_data"
    }
   ],
   "source": [
    "df = df.drop(df[df[\"Số tầng\"] == \"Nhiều hơn 10\"].index)\n",
    "df[\"Số tầng\"] = [float(x) for x in list(df[\"Số tầng\"])]\n",
    "df = df.drop(df[df[\"Số tầng\"] > 10].index)"
   ]
  },
  {
   "cell_type": "markdown",
   "id": "05923d26",
   "metadata": {},
   "source": [
    "# Review categorical variables"
   ]
  },
  {
   "cell_type": "code",
   "execution_count": 9,
   "id": "3a9a1278",
   "metadata": {},
   "outputs": [
    {
     "data": {
      "application/javascript": [
       "\n",
       "            setTimeout(function() {\n",
       "                var nbb_cell_id = 9;\n",
       "                var nbb_unformatted_code = \"def review(df, attribute):\\n    print(\\\"=\\\" * 100)\\n    print(len(set(list(df[attribute]))))\\n    for x in set(list(df[attribute])):\\n        print(f\\\"{x}: {list(df[attribute]).count(x)}\\\")\";\n",
       "                var nbb_formatted_code = \"def review(df, attribute):\\n    print(\\\"=\\\" * 100)\\n    print(len(set(list(df[attribute]))))\\n    for x in set(list(df[attribute])):\\n        print(f\\\"{x}: {list(df[attribute]).count(x)}\\\")\";\n",
       "                var nbb_cells = Jupyter.notebook.get_cells();\n",
       "                for (var i = 0; i < nbb_cells.length; ++i) {\n",
       "                    if (nbb_cells[i].input_prompt_number == nbb_cell_id) {\n",
       "                        if (nbb_cells[i].get_text() == nbb_unformatted_code) {\n",
       "                             nbb_cells[i].set_text(nbb_formatted_code);\n",
       "                        }\n",
       "                        break;\n",
       "                    }\n",
       "                }\n",
       "            }, 500);\n",
       "            "
      ],
      "text/plain": [
       "<IPython.core.display.Javascript object>"
      ]
     },
     "metadata": {},
     "output_type": "display_data"
    }
   ],
   "source": [
    "def review(df, attribute):\n",
    "    print(\"=\" * 100)\n",
    "    print(len(set(list(df[attribute]))))\n",
    "    for x in set(list(df[attribute])):\n",
    "        print(f\"{x}: {list(df[attribute]).count(x)}\")"
   ]
  },
  {
   "cell_type": "code",
   "execution_count": 10,
   "id": "a1dc84dd",
   "metadata": {},
   "outputs": [
    {
     "name": "stdout",
     "output_type": "stream",
     "text": [
      "====================================================================================================\n",
      "3\n",
      "Đang chờ sổ: 77\n",
      "Giấy tờ khác: 64\n",
      "Đã có sổ: 9990\n",
      "====================================================================================================\n",
      "4\n",
      "Nhà ngõ, hẻm: 7273\n",
      "Nhà phố liền kề: 356\n",
      "Nhà biệt thự: 173\n",
      "Nhà mặt phố, mặt tiền: 2329\n",
      "====================================================================================================\n",
      "232\n",
      "Phường Vạn Phúc: 103\n",
      "Phường Thịnh Liệt: 75\n",
      "Phường Đông Ngạc: 8\n",
      "Phường Ngọc Thụy: 98\n",
      "Phường Đội Cấn: 115\n",
      "Xã Khánh Hà: 1\n",
      "Phường Mai Động: 39\n",
      "Phường Tràng Tiền: 2\n",
      "Phường Định Công: 165\n",
      "Thị trấn Sóc Sơn: 1\n",
      "Phường Dịch Vọng Hậu: 100\n",
      "Xã Đông La: 16\n",
      "Phường Phúc La: 42\n",
      "Xã Phương Trung: 1\n",
      "Phường Kim Liên: 37\n",
      "Phường Thanh Nhàn: 111\n",
      "Phường Tứ Liên: 45\n",
      "Thị trấn Trạm Trôi: 8\n",
      "Thị trấn Chúc Sơn: 2\n",
      "Phường Hàng Bột: 76\n",
      "Phường Phú Đô: 20\n",
      "Phường Mỹ Đình 2: 68\n",
      "Phường Bùi Thị Xuân: 7\n",
      "Phường Cầu Dền: 12\n",
      "Phường Tây Mỗ: 30\n",
      "Phường Lý Thái Tổ: 2\n",
      "Phường Minh Khai: 157\n",
      "Phường Quảng An: 31\n",
      "Phường Khương Đình: 227\n",
      "Phường Mễ Trì: 36\n",
      "Xã Nam Hồng: 1\n",
      "Phường Văn Chương: 33\n",
      "Xã Bích Hòa: 3\n",
      "Xã Đa Tốn: 1\n",
      "Phường Trương Định: 92\n",
      "Phường Vĩnh Phúc: 75\n",
      "Xã Phú Cát: 2\n",
      "Phường Trúc Bạch: 13\n",
      "Phường Khâm Thiên: 72\n",
      "Xã Bắc Hồng: 1\n",
      "Phường Hà Cầu: 92\n",
      "Xã Thanh Liệt: 37\n",
      "Phường Nguyễn Du: 1\n",
      "Phường Phú Thượng: 43\n",
      "Phường Vĩnh Tuy: 86\n",
      "Phường Văn Miếu: 19\n",
      "Xã Mai Lâm: 1\n",
      "Xã Cổ Đông: 1\n",
      "Phường Phú Lãm: 69\n",
      "Xã Ngũ Hiệp: 6\n",
      "Phường Quỳnh Mai: 9\n",
      "Phường Thượng Cát: 1\n",
      "Phường Thụy Phương: 8\n",
      "Phường Mộ Lao: 80\n",
      "Phường Đồng Tâm: 57\n",
      "Phường Đồng Xuân: 1\n",
      "Xã Vân Canh: 40\n",
      "Xã An Khánh: 7\n",
      "Phường Phú La: 43\n",
      "Phường Nghĩa Đô: 148\n",
      "Xã Cổ Bi: 3\n",
      "Xã Hương Ngải: 1\n",
      "Phường Hàng Bồ: 1\n",
      "Phường Nguyễn Trãi: 44\n",
      "Phường Hoàng Liệt: 60\n",
      "Phường Cổ Nhuế 1: 52\n",
      "Phường Phố Huế: 16\n",
      "Phường Xuân Phương: 31\n",
      "Phường Long Biên: 92\n",
      "Xã Kim Chung: 14\n",
      "Xã Sơn Đông: 1\n",
      "Phường Ngọc Khánh: 18\n",
      "Xã Phú Cường: 1\n",
      "Phường Nguyễn Trung Trực: 4\n",
      "Phường Quan Hoa: 108\n",
      "Phường Phú Diễn: 32\n",
      "Phường Hạ Đình: 53\n",
      "Phường Quỳnh Lôi: 32\n",
      "Xã Hải Bối: 1\n",
      "Xã Vân Côn: 3\n",
      "Phường Gia Thụy: 30\n",
      "Thị trấn Đông Anh: 3\n",
      "Phường Cửa Đông: 11\n",
      "Phường Văn Quán: 166\n",
      "Phường Ngã Tư Sở: 63\n",
      "Phường Kim Mã: 73\n",
      "Phường Yên Hoà: 206\n",
      "Phường Tân Mai: 127\n",
      "Phường Ngô Thì Nhậm: 3\n",
      "Phường Nhân Chính: 193\n",
      "Phường Tương Mai: 40\n",
      "Phường Mỹ Đình 1: 142\n",
      "Phường Ngô Quyền: 1\n",
      "Phường Kim Giang: 84\n",
      "Phường Thượng Thanh: 40\n",
      "Phường Thanh Xuân Nam: 62\n",
      "Phường Biên Giang: 11\n",
      "Xã Đông Dư: 4\n",
      "Phường Đồng Mai: 12\n",
      "Phường Cự Khối: 30\n",
      "Phường Nam Đồng: 54\n",
      "Phường Đại Mỗ: 34\n",
      "Xã Thạch Hoà: 2\n",
      "Xã Dương Liễu: 1\n",
      "Phường Giảng Võ: 21\n",
      "Xã Đông Mỹ: 7\n",
      "Phường Quốc Tử Giám: 31\n",
      "Phường Trần Hưng Đạo: 3\n",
      "Phường Trần Phú: 11\n",
      "Phường Hàng Đào: 1\n",
      "Phường Đồng Nhân: 7\n",
      "Phường Thịnh Quang: 75\n",
      "Phường Yên Phụ: 20\n",
      "Phường Thanh Xuân Trung: 69\n",
      "Phường Cống Vị: 89\n",
      "Xã Lê Lợi: 1\n",
      "Phường Trung Tự: 44\n",
      "Xã Đại Yên: 1\n",
      "Phường Yết Kiêu: 18\n",
      "Thị trấn Quang Minh: 1\n",
      "Phường Hàng Buồm: 3\n",
      "Xã Liên Ninh: 5\n",
      "Phường Đống Mác: 26\n",
      "Phường Hàng Bài: 7\n",
      "Phường Phú Lương: 39\n",
      "Phường Kiến Hưng: 119\n",
      "Phường Thụy Khuê: 88\n",
      "Phường Cổ Nhuế 2: 28\n",
      "Phường Phan Chu Trinh: 9\n",
      "Xã Hữu Hoà: 14\n",
      "Xã Tiền Phong: 1\n",
      "Phường Hàng Trống: 1\n",
      "Xã Tân Lập: 5\n",
      "Phường Đại Kim: 132\n",
      "Phường Đức Thắng: 5\n",
      "Phường Yên Sở: 28\n",
      "Phường Hàng Mã: 7\n",
      "Phường La Khê: 195\n",
      "Xã Nghĩa Hương: 1\n",
      "Phường Thanh Lương: 82\n",
      "Phường Hàng Bông: 4\n",
      "Thị trấn Trâu Quỳ: 27\n",
      "Phường Phương Mai: 45\n",
      "Phường Tây Tựu: 1\n",
      "Phường Giang Biên: 9\n",
      "Phường Phương Liên: 31\n",
      "Phường Sài Đồng: 15\n",
      "Phường Chương Dương: 6\n",
      "Phường Cầu Diễn: 23\n",
      "Phường Phúc Xá: 29\n",
      "Phường Phúc Diễn: 8\n",
      "Xã Vân Nội: 1\n",
      "Xã Phù Linh: 1\n",
      "Phường Dịch Vọng: 111\n",
      "Phường Yên Nghĩa: 230\n",
      "Phường Dương Nội: 70\n",
      "Xã Tả Thanh Oai: 21\n",
      "Phường Trung Hoà: 116\n",
      "Phường Khương Trung: 290\n",
      "Phường Nghĩa Tân: 74\n",
      "Xã Vĩnh Quỳnh: 9\n",
      "Phường Xuân Tảo: 1\n",
      "Xã Sài Sơn: 1\n",
      "Phường Láng Hạ: 179\n",
      "Phường Ngọc Lâm: 74\n",
      "Phường Điện Biên: 12\n",
      "Xã Tứ Hiệp: 18\n",
      "Thị trấn Yên Viên: 1\n",
      "Phường Khương Thượng: 72\n",
      "Xã Nhị Khê: 1\n",
      "Phường Lê Đại Hành: 19\n",
      "Phường Đức Giang: 28\n",
      "Phường Bách Khoa: 47\n",
      "Xã Di Trạch: 1\n",
      "Phường Mai Dịch: 129\n",
      "Phường Khương Mai: 185\n",
      "Phường Thổ Quan: 21\n",
      "Phường Phương Canh: 45\n",
      "Phường Bạch Đằng: 24\n",
      "Phường Trung Văn: 50\n",
      "Xã Tam Hiệp: 13\n",
      "Phường Ngọc Hà: 74\n",
      "Xã An Thượng: 10\n",
      "Xã Thượng Mỗ: 1\n",
      "Phường Phú Thịnh: 2\n",
      "Xã Tiên Dược: 2\n",
      "Thị trấn Văn Điển: 10\n",
      "Xã Đại áng: 1\n",
      "Phường Phương Liệt: 40\n",
      "Xã Kim Sơn: 1\n",
      "Phường Phúc Lợi: 19\n",
      "Phường Thanh Trì: 38\n",
      "Xã Kiêu Kỵ: 2\n",
      "Phường Xuân La: 121\n",
      "Xã Tân Triều: 38\n",
      "Phường Thanh Xuân Bắc: 82\n",
      "Phường Thành Công: 20\n",
      "Phường Láng Thượng: 105\n",
      "Phường Cát Linh: 40\n",
      "Phường Phúc Tân: 10\n",
      "Phường Bồ Đề: 111\n",
      "Phường Ô Chợ Dừa: 183\n",
      "Phường Thạch Bàn: 58\n",
      "Phường Giáp Bát: 80\n",
      "Phường Phạm Đình Hổ: 7\n",
      "Xã Ngọc Hồi: 9\n",
      "Phường Thượng Đình: 57\n",
      "Xã Đặng Xá: 2\n",
      "Phường Nhật Tân: 40\n",
      "Phường Vĩnh Hưng: 71\n",
      "Phường Việt Hưng: 15\n",
      "Phường Lĩnh Nam: 125\n",
      "Xã La Phù: 28\n",
      "Phường Cửa Nam: 5\n",
      "Phường Trung Liệt: 142\n",
      "Phường Phúc Đồng: 25\n",
      "Phường Bạch Mai: 141\n",
      "Phường Quang Trung: 162\n",
      "Xã Phù Đổng: 1\n",
      "Xã Yên Thường: 1\n",
      "Phường Bưởi: 90\n",
      "Phường Trung Phụng: 33\n",
      "Phường Hàng Gai: 1\n",
      "Phường Xuân Đỉnh: 66\n",
      "Phường Quán Thánh: 8\n",
      "Phường Liễu Giai: 64\n",
      "Xã Võng Xuyên: 1\n",
      "Xã Đức Thượng: 1\n",
      "Xã Duyên Thái: 1\n",
      "Xã Cự Khê: 12\n",
      "Phường Hoàng Văn Thụ: 99\n",
      "Xã Võng La: 4\n",
      "====================================================================================================\n",
      "26\n",
      "Huyện Thanh Trì: 188\n",
      "Huyện Thạch Thất: 3\n",
      "Quận Hà Đông: 1440\n",
      "Huyện Sóc Sơn: 5\n",
      "Quận Đống Đa: 1410\n",
      "Thị xã Sơn Tây: 6\n",
      "Huyện Hoài Đức: 129\n",
      "Quận Thanh Xuân: 1342\n",
      "Quận Long Biên: 644\n",
      "Huyện Thanh Oai: 16\n",
      "Quận Hoàng Mai: 1090\n",
      "Huyện Phúc Thọ: 1\n",
      "Huyện Gia Lâm: 42\n",
      "Quận Tây Hồ: 478\n",
      "Huyện Đông Anh: 12\n",
      "Huyện Quốc Oai: 4\n",
      "Huyện Đan Phượng: 6\n",
      "Quận Ba Đình: 615\n",
      "Quận Hai Bà Trưng: 923\n",
      "Quận Cầu Giấy: 992\n",
      "Huyện Mê Linh: 2\n",
      "Quận Bắc Từ Liêm: 223\n",
      "Huyện Chương Mỹ: 3\n",
      "Quận Nam Từ Liêm: 479\n",
      "Huyện Thường Tín: 4\n",
      "Quận Hoàn Kiếm: 74\n"
     ]
    },
    {
     "data": {
      "application/javascript": [
       "\n",
       "            setTimeout(function() {\n",
       "                var nbb_cell_id = 10;\n",
       "                var nbb_unformatted_code = \"review(df, \\\"Gi\\u1ea5y t\\u1edd ph\\u00e1p l\\u00fd\\\")\\nreview(df, \\\"Lo\\u1ea1i h\\u00ecnh nh\\u00e0 \\u1edf\\\")\\nreview(df, \\\"Huy\\u1ec7n\\\")\\nreview(df, \\\"Qu\\u1eadn\\\")\";\n",
       "                var nbb_formatted_code = \"review(df, \\\"Gi\\u1ea5y t\\u1edd ph\\u00e1p l\\u00fd\\\")\\nreview(df, \\\"Lo\\u1ea1i h\\u00ecnh nh\\u00e0 \\u1edf\\\")\\nreview(df, \\\"Huy\\u1ec7n\\\")\\nreview(df, \\\"Qu\\u1eadn\\\")\";\n",
       "                var nbb_cells = Jupyter.notebook.get_cells();\n",
       "                for (var i = 0; i < nbb_cells.length; ++i) {\n",
       "                    if (nbb_cells[i].input_prompt_number == nbb_cell_id) {\n",
       "                        if (nbb_cells[i].get_text() == nbb_unformatted_code) {\n",
       "                             nbb_cells[i].set_text(nbb_formatted_code);\n",
       "                        }\n",
       "                        break;\n",
       "                    }\n",
       "                }\n",
       "            }, 500);\n",
       "            "
      ],
      "text/plain": [
       "<IPython.core.display.Javascript object>"
      ]
     },
     "metadata": {},
     "output_type": "display_data"
    }
   ],
   "source": [
    "review(df, \"Giấy tờ pháp lý\")\n",
    "review(df, \"Loại hình nhà ở\")\n",
    "review(df, \"Huyện\")\n",
    "review(df, \"Quận\")"
   ]
  },
  {
   "cell_type": "markdown",
   "id": "70e154ca",
   "metadata": {},
   "source": [
    "### Rename columns: Vietnamese to English"
   ]
  },
  {
   "cell_type": "code",
   "execution_count": 11,
   "id": "66a02027",
   "metadata": {},
   "outputs": [
    {
     "name": "stdout",
     "output_type": "stream",
     "text": [
      "10131 instances\n"
     ]
    },
    {
     "data": {
      "text/html": [
       "<div>\n",
       "<style scoped>\n",
       "    .dataframe tbody tr th:only-of-type {\n",
       "        vertical-align: middle;\n",
       "    }\n",
       "\n",
       "    .dataframe tbody tr th {\n",
       "        vertical-align: top;\n",
       "    }\n",
       "\n",
       "    .dataframe thead th {\n",
       "        text-align: right;\n",
       "    }\n",
       "</style>\n",
       "<table border=\"1\" class=\"dataframe\">\n",
       "  <thead>\n",
       "    <tr style=\"text-align: right;\">\n",
       "      <th></th>\n",
       "      <th>district</th>\n",
       "      <th>ward</th>\n",
       "      <th>type_of_housing</th>\n",
       "      <th>legal_paper</th>\n",
       "      <th>floor_num</th>\n",
       "      <th>bedroom_num</th>\n",
       "      <th>area</th>\n",
       "      <th>length</th>\n",
       "      <th>width</th>\n",
       "      <th>price/m2</th>\n",
       "    </tr>\n",
       "  </thead>\n",
       "  <tbody>\n",
       "    <tr>\n",
       "      <th>0</th>\n",
       "      <td>Quận Hai Bà Trưng</td>\n",
       "      <td>Phường Minh Khai</td>\n",
       "      <td>Nhà ngõ, hẻm</td>\n",
       "      <td>Đã có sổ</td>\n",
       "      <td>4.0</td>\n",
       "      <td>4.0</td>\n",
       "      <td>40.0</td>\n",
       "      <td>10.0</td>\n",
       "      <td>4.0</td>\n",
       "      <td>65.00</td>\n",
       "    </tr>\n",
       "    <tr>\n",
       "      <th>1</th>\n",
       "      <td>Quận Long Biên</td>\n",
       "      <td>Phường Bồ Đề</td>\n",
       "      <td>Nhà ngõ, hẻm</td>\n",
       "      <td>Đã có sổ</td>\n",
       "      <td>5.0</td>\n",
       "      <td>4.0</td>\n",
       "      <td>52.0</td>\n",
       "      <td>12.0</td>\n",
       "      <td>4.2</td>\n",
       "      <td>93.27</td>\n",
       "    </tr>\n",
       "    <tr>\n",
       "      <th>2</th>\n",
       "      <td>Quận Hà Đông</td>\n",
       "      <td>Phường La Khê</td>\n",
       "      <td>Nhà mặt phố, mặt tiền</td>\n",
       "      <td>Đã có sổ</td>\n",
       "      <td>5.0</td>\n",
       "      <td>5.0</td>\n",
       "      <td>90.0</td>\n",
       "      <td>18.0</td>\n",
       "      <td>5.0</td>\n",
       "      <td>108.89</td>\n",
       "    </tr>\n",
       "    <tr>\n",
       "      <th>3</th>\n",
       "      <td>Quận Nam Từ Liêm</td>\n",
       "      <td>Phường Tây Mỗ</td>\n",
       "      <td>Nhà ngõ, hẻm</td>\n",
       "      <td>Đã có sổ</td>\n",
       "      <td>4.0</td>\n",
       "      <td>3.0</td>\n",
       "      <td>32.0</td>\n",
       "      <td>6.6</td>\n",
       "      <td>4.5</td>\n",
       "      <td>60.94</td>\n",
       "    </tr>\n",
       "    <tr>\n",
       "      <th>4</th>\n",
       "      <td>Huyện Thanh Trì</td>\n",
       "      <td>Xã Tả Thanh Oai</td>\n",
       "      <td>Nhà ngõ, hẻm</td>\n",
       "      <td>Đã có sổ</td>\n",
       "      <td>3.0</td>\n",
       "      <td>2.0</td>\n",
       "      <td>42.0</td>\n",
       "      <td>11.0</td>\n",
       "      <td>4.0</td>\n",
       "      <td>29.76</td>\n",
       "    </tr>\n",
       "  </tbody>\n",
       "</table>\n",
       "</div>"
      ],
      "text/plain": [
       "            district              ward        type_of_housing legal_paper  \\\n",
       "0  Quận Hai Bà Trưng  Phường Minh Khai           Nhà ngõ, hẻm    Đã có sổ   \n",
       "1     Quận Long Biên      Phường Bồ Đề           Nhà ngõ, hẻm    Đã có sổ   \n",
       "2       Quận Hà Đông     Phường La Khê  Nhà mặt phố, mặt tiền    Đã có sổ   \n",
       "3   Quận Nam Từ Liêm     Phường Tây Mỗ           Nhà ngõ, hẻm    Đã có sổ   \n",
       "4    Huyện Thanh Trì   Xã Tả Thanh Oai           Nhà ngõ, hẻm    Đã có sổ   \n",
       "\n",
       "   floor_num  bedroom_num  area  length  width  price/m2  \n",
       "0        4.0          4.0  40.0    10.0    4.0     65.00  \n",
       "1        5.0          4.0  52.0    12.0    4.2     93.27  \n",
       "2        5.0          5.0  90.0    18.0    5.0    108.89  \n",
       "3        4.0          3.0  32.0     6.6    4.5     60.94  \n",
       "4        3.0          2.0  42.0    11.0    4.0     29.76  "
      ]
     },
     "metadata": {},
     "output_type": "display_data"
    },
    {
     "data": {
      "application/javascript": [
       "\n",
       "            setTimeout(function() {\n",
       "                var nbb_cell_id = 11;\n",
       "                var nbb_unformatted_code = \"df = df.reset_index(drop=True)\\ndf = df.rename(\\n    columns={\\n        \\\"Qu\\u1eadn\\\": \\\"district\\\",\\n        \\\"Huy\\u1ec7n\\\": \\\"ward\\\",\\n        \\\"Lo\\u1ea1i h\\u00ecnh nh\\u00e0 \\u1edf\\\": \\\"type_of_housing\\\",\\n        \\\"Gi\\u1ea5y t\\u1edd ph\\u00e1p l\\u00fd\\\": \\\"legal_paper\\\",\\n        \\\"S\\u1ed1 t\\u1ea7ng\\\": \\\"floor_num\\\",\\n        \\\"S\\u1ed1 ph\\u00f2ng ng\\u1ee7\\\": \\\"bedroom_num\\\",\\n        \\\"Di\\u1ec7n t\\u00edch\\\": \\\"area\\\",\\n        \\\"D\\u00e0i\\\": \\\"length\\\",\\n        \\\"R\\u1ed9ng\\\": \\\"width\\\",\\n        \\\"Gi\\u00e1/m2\\\": \\\"price/m2\\\",\\n    }\\n)\\nprint(f\\\"{len(df)} instances\\\")\\ndisplay(df.head())\";\n",
       "                var nbb_formatted_code = \"df = df.reset_index(drop=True)\\ndf = df.rename(\\n    columns={\\n        \\\"Qu\\u1eadn\\\": \\\"district\\\",\\n        \\\"Huy\\u1ec7n\\\": \\\"ward\\\",\\n        \\\"Lo\\u1ea1i h\\u00ecnh nh\\u00e0 \\u1edf\\\": \\\"type_of_housing\\\",\\n        \\\"Gi\\u1ea5y t\\u1edd ph\\u00e1p l\\u00fd\\\": \\\"legal_paper\\\",\\n        \\\"S\\u1ed1 t\\u1ea7ng\\\": \\\"floor_num\\\",\\n        \\\"S\\u1ed1 ph\\u00f2ng ng\\u1ee7\\\": \\\"bedroom_num\\\",\\n        \\\"Di\\u1ec7n t\\u00edch\\\": \\\"area\\\",\\n        \\\"D\\u00e0i\\\": \\\"length\\\",\\n        \\\"R\\u1ed9ng\\\": \\\"width\\\",\\n        \\\"Gi\\u00e1/m2\\\": \\\"price/m2\\\",\\n    }\\n)\\nprint(f\\\"{len(df)} instances\\\")\\ndisplay(df.head())\";\n",
       "                var nbb_cells = Jupyter.notebook.get_cells();\n",
       "                for (var i = 0; i < nbb_cells.length; ++i) {\n",
       "                    if (nbb_cells[i].input_prompt_number == nbb_cell_id) {\n",
       "                        if (nbb_cells[i].get_text() == nbb_unformatted_code) {\n",
       "                             nbb_cells[i].set_text(nbb_formatted_code);\n",
       "                        }\n",
       "                        break;\n",
       "                    }\n",
       "                }\n",
       "            }, 500);\n",
       "            "
      ],
      "text/plain": [
       "<IPython.core.display.Javascript object>"
      ]
     },
     "metadata": {},
     "output_type": "display_data"
    }
   ],
   "source": [
    "df = df.reset_index(drop=True)\n",
    "df = df.rename(\n",
    "    columns={\n",
    "        \"Quận\": \"district\",\n",
    "        \"Huyện\": \"ward\",\n",
    "        \"Loại hình nhà ở\": \"type_of_housing\",\n",
    "        \"Giấy tờ pháp lý\": \"legal_paper\",\n",
    "        \"Số tầng\": \"floor_num\",\n",
    "        \"Số phòng ngủ\": \"bedroom_num\",\n",
    "        \"Diện tích\": \"area\",\n",
    "        \"Dài\": \"length\",\n",
    "        \"Rộng\": \"width\",\n",
    "        \"Giá/m2\": \"price/m2\",\n",
    "    }\n",
    ")\n",
    "print(f\"{len(df)} instances\")\n",
    "display(df.head())"
   ]
  },
  {
   "cell_type": "markdown",
   "id": "48365e05",
   "metadata": {},
   "source": [
    "### Ordinal encoding: type_of_housing, legal_paper"
   ]
  },
  {
   "cell_type": "code",
   "execution_count": 12,
   "id": "f2ca541e",
   "metadata": {},
   "outputs": [
    {
     "data": {
      "application/javascript": [
       "\n",
       "            setTimeout(function() {\n",
       "                var nbb_cell_id = 12;\n",
       "                var nbb_unformatted_code = \"df[\\\"type_of_housing\\\"] = df.type_of_housing.map(\\n    {\\n        \\\"Nh\\u00e0 bi\\u1ec7t th\\u1ef1\\\": 4.0,\\n        \\\"Nh\\u00e0 m\\u1eb7t ph\\u1ed1, m\\u1eb7t ti\\u1ec1n\\\": 3.0,\\n        \\\"Nh\\u00e0 ph\\u1ed1 li\\u1ec1n k\\u1ec1\\\": 2.0,\\n        \\\"Nh\\u00e0 ng\\u00f5, h\\u1ebbm\\\": 1.0,\\n    }\\n)\\ndf[\\\"legal_paper\\\"] = df.legal_paper.map(\\n    {\\\"\\u0110\\u00e3 c\\u00f3 s\\u1ed5\\\": 3.0, \\\"\\u0110ang ch\\u1edd s\\u1ed5\\\": 2.0, \\\"Gi\\u1ea5y t\\u1edd kh\\u00e1c\\\": 1.0}\\n)\";\n",
       "                var nbb_formatted_code = \"df[\\\"type_of_housing\\\"] = df.type_of_housing.map(\\n    {\\n        \\\"Nh\\u00e0 bi\\u1ec7t th\\u1ef1\\\": 4.0,\\n        \\\"Nh\\u00e0 m\\u1eb7t ph\\u1ed1, m\\u1eb7t ti\\u1ec1n\\\": 3.0,\\n        \\\"Nh\\u00e0 ph\\u1ed1 li\\u1ec1n k\\u1ec1\\\": 2.0,\\n        \\\"Nh\\u00e0 ng\\u00f5, h\\u1ebbm\\\": 1.0,\\n    }\\n)\\ndf[\\\"legal_paper\\\"] = df.legal_paper.map(\\n    {\\\"\\u0110\\u00e3 c\\u00f3 s\\u1ed5\\\": 3.0, \\\"\\u0110ang ch\\u1edd s\\u1ed5\\\": 2.0, \\\"Gi\\u1ea5y t\\u1edd kh\\u00e1c\\\": 1.0}\\n)\";\n",
       "                var nbb_cells = Jupyter.notebook.get_cells();\n",
       "                for (var i = 0; i < nbb_cells.length; ++i) {\n",
       "                    if (nbb_cells[i].input_prompt_number == nbb_cell_id) {\n",
       "                        if (nbb_cells[i].get_text() == nbb_unformatted_code) {\n",
       "                             nbb_cells[i].set_text(nbb_formatted_code);\n",
       "                        }\n",
       "                        break;\n",
       "                    }\n",
       "                }\n",
       "            }, 500);\n",
       "            "
      ],
      "text/plain": [
       "<IPython.core.display.Javascript object>"
      ]
     },
     "metadata": {},
     "output_type": "display_data"
    }
   ],
   "source": [
    "df[\"type_of_housing\"] = df.type_of_housing.map(\n",
    "    {\n",
    "        \"Nhà biệt thự\": 4.0,\n",
    "        \"Nhà mặt phố, mặt tiền\": 3.0,\n",
    "        \"Nhà phố liền kề\": 2.0,\n",
    "        \"Nhà ngõ, hẻm\": 1.0,\n",
    "    }\n",
    ")\n",
    "df[\"legal_paper\"] = df.legal_paper.map(\n",
    "    {\"Đã có sổ\": 3.0, \"Đang chờ sổ\": 2.0, \"Giấy tờ khác\": 1.0}\n",
    ")"
   ]
  },
  {
   "cell_type": "markdown",
   "id": "5b3d31db",
   "metadata": {},
   "source": [
    "### Nominal encoding: district, ward"
   ]
  },
  {
   "cell_type": "code",
   "execution_count": 13,
   "id": "dbbbab0c",
   "metadata": {},
   "outputs": [
    {
     "data": {
      "application/javascript": [
       "\n",
       "            setTimeout(function() {\n",
       "                var nbb_cell_id = 13;\n",
       "                var nbb_unformatted_code = \"df = ce.OneHotEncoder(cols=[\\\"district\\\", \\\"ward\\\"]).fit_transform(df)\";\n",
       "                var nbb_formatted_code = \"df = ce.OneHotEncoder(cols=[\\\"district\\\", \\\"ward\\\"]).fit_transform(df)\";\n",
       "                var nbb_cells = Jupyter.notebook.get_cells();\n",
       "                for (var i = 0; i < nbb_cells.length; ++i) {\n",
       "                    if (nbb_cells[i].input_prompt_number == nbb_cell_id) {\n",
       "                        if (nbb_cells[i].get_text() == nbb_unformatted_code) {\n",
       "                             nbb_cells[i].set_text(nbb_formatted_code);\n",
       "                        }\n",
       "                        break;\n",
       "                    }\n",
       "                }\n",
       "            }, 500);\n",
       "            "
      ],
      "text/plain": [
       "<IPython.core.display.Javascript object>"
      ]
     },
     "metadata": {},
     "output_type": "display_data"
    }
   ],
   "source": [
    "df = ce.OneHotEncoder(cols=[\"district\", \"ward\"]).fit_transform(df)"
   ]
  },
  {
   "cell_type": "markdown",
   "id": "2230948a",
   "metadata": {},
   "source": [
    "### Export processed dataset to csv file"
   ]
  },
  {
   "cell_type": "code",
   "execution_count": 14,
   "id": "89bc55ce",
   "metadata": {},
   "outputs": [
    {
     "data": {
      "application/javascript": [
       "\n",
       "            setTimeout(function() {\n",
       "                var nbb_cell_id = 14;\n",
       "                var nbb_unformatted_code = \"df.to_csv(\\\"VN_housing_dataset_processed_expert_knowledge.csv\\\", index=False)\";\n",
       "                var nbb_formatted_code = \"df.to_csv(\\\"VN_housing_dataset_processed_expert_knowledge.csv\\\", index=False)\";\n",
       "                var nbb_cells = Jupyter.notebook.get_cells();\n",
       "                for (var i = 0; i < nbb_cells.length; ++i) {\n",
       "                    if (nbb_cells[i].input_prompt_number == nbb_cell_id) {\n",
       "                        if (nbb_cells[i].get_text() == nbb_unformatted_code) {\n",
       "                             nbb_cells[i].set_text(nbb_formatted_code);\n",
       "                        }\n",
       "                        break;\n",
       "                    }\n",
       "                }\n",
       "            }, 500);\n",
       "            "
      ],
      "text/plain": [
       "<IPython.core.display.Javascript object>"
      ]
     },
     "metadata": {},
     "output_type": "display_data"
    }
   ],
   "source": [
    "df.to_csv(\"VN_housing_dataset_processed_expert_knowledge.csv\", index=False)"
   ]
  },
  {
   "cell_type": "markdown",
   "id": "432992ee",
   "metadata": {},
   "source": [
    "### Load processed dataset from csv file\n",
    "Review processed dataset"
   ]
  },
  {
   "cell_type": "code",
   "execution_count": 15,
   "id": "4f2d8fed",
   "metadata": {},
   "outputs": [
    {
     "name": "stdout",
     "output_type": "stream",
     "text": [
      "10131 instances\n"
     ]
    },
    {
     "data": {
      "text/html": [
       "<div>\n",
       "<style scoped>\n",
       "    .dataframe tbody tr th:only-of-type {\n",
       "        vertical-align: middle;\n",
       "    }\n",
       "\n",
       "    .dataframe tbody tr th {\n",
       "        vertical-align: top;\n",
       "    }\n",
       "\n",
       "    .dataframe thead th {\n",
       "        text-align: right;\n",
       "    }\n",
       "</style>\n",
       "<table border=\"1\" class=\"dataframe\">\n",
       "  <thead>\n",
       "    <tr style=\"text-align: right;\">\n",
       "      <th></th>\n",
       "      <th>district_1</th>\n",
       "      <th>district_2</th>\n",
       "      <th>district_3</th>\n",
       "      <th>district_4</th>\n",
       "      <th>district_5</th>\n",
       "      <th>district_6</th>\n",
       "      <th>district_7</th>\n",
       "      <th>district_8</th>\n",
       "      <th>district_9</th>\n",
       "      <th>district_10</th>\n",
       "      <th>...</th>\n",
       "      <th>ward_231</th>\n",
       "      <th>ward_232</th>\n",
       "      <th>type_of_housing</th>\n",
       "      <th>legal_paper</th>\n",
       "      <th>floor_num</th>\n",
       "      <th>bedroom_num</th>\n",
       "      <th>area</th>\n",
       "      <th>length</th>\n",
       "      <th>width</th>\n",
       "      <th>price/m2</th>\n",
       "    </tr>\n",
       "  </thead>\n",
       "  <tbody>\n",
       "    <tr>\n",
       "      <th>0</th>\n",
       "      <td>1</td>\n",
       "      <td>0</td>\n",
       "      <td>0</td>\n",
       "      <td>0</td>\n",
       "      <td>0</td>\n",
       "      <td>0</td>\n",
       "      <td>0</td>\n",
       "      <td>0</td>\n",
       "      <td>0</td>\n",
       "      <td>0</td>\n",
       "      <td>...</td>\n",
       "      <td>0</td>\n",
       "      <td>0</td>\n",
       "      <td>1.0</td>\n",
       "      <td>3.0</td>\n",
       "      <td>4.0</td>\n",
       "      <td>4.0</td>\n",
       "      <td>40.0</td>\n",
       "      <td>10.0</td>\n",
       "      <td>4.0</td>\n",
       "      <td>65.00</td>\n",
       "    </tr>\n",
       "    <tr>\n",
       "      <th>1</th>\n",
       "      <td>0</td>\n",
       "      <td>1</td>\n",
       "      <td>0</td>\n",
       "      <td>0</td>\n",
       "      <td>0</td>\n",
       "      <td>0</td>\n",
       "      <td>0</td>\n",
       "      <td>0</td>\n",
       "      <td>0</td>\n",
       "      <td>0</td>\n",
       "      <td>...</td>\n",
       "      <td>0</td>\n",
       "      <td>0</td>\n",
       "      <td>1.0</td>\n",
       "      <td>3.0</td>\n",
       "      <td>5.0</td>\n",
       "      <td>4.0</td>\n",
       "      <td>52.0</td>\n",
       "      <td>12.0</td>\n",
       "      <td>4.2</td>\n",
       "      <td>93.27</td>\n",
       "    </tr>\n",
       "    <tr>\n",
       "      <th>2</th>\n",
       "      <td>0</td>\n",
       "      <td>0</td>\n",
       "      <td>1</td>\n",
       "      <td>0</td>\n",
       "      <td>0</td>\n",
       "      <td>0</td>\n",
       "      <td>0</td>\n",
       "      <td>0</td>\n",
       "      <td>0</td>\n",
       "      <td>0</td>\n",
       "      <td>...</td>\n",
       "      <td>0</td>\n",
       "      <td>0</td>\n",
       "      <td>3.0</td>\n",
       "      <td>3.0</td>\n",
       "      <td>5.0</td>\n",
       "      <td>5.0</td>\n",
       "      <td>90.0</td>\n",
       "      <td>18.0</td>\n",
       "      <td>5.0</td>\n",
       "      <td>108.89</td>\n",
       "    </tr>\n",
       "    <tr>\n",
       "      <th>3</th>\n",
       "      <td>0</td>\n",
       "      <td>0</td>\n",
       "      <td>0</td>\n",
       "      <td>1</td>\n",
       "      <td>0</td>\n",
       "      <td>0</td>\n",
       "      <td>0</td>\n",
       "      <td>0</td>\n",
       "      <td>0</td>\n",
       "      <td>0</td>\n",
       "      <td>...</td>\n",
       "      <td>0</td>\n",
       "      <td>0</td>\n",
       "      <td>1.0</td>\n",
       "      <td>3.0</td>\n",
       "      <td>4.0</td>\n",
       "      <td>3.0</td>\n",
       "      <td>32.0</td>\n",
       "      <td>6.6</td>\n",
       "      <td>4.5</td>\n",
       "      <td>60.94</td>\n",
       "    </tr>\n",
       "    <tr>\n",
       "      <th>4</th>\n",
       "      <td>0</td>\n",
       "      <td>0</td>\n",
       "      <td>0</td>\n",
       "      <td>0</td>\n",
       "      <td>1</td>\n",
       "      <td>0</td>\n",
       "      <td>0</td>\n",
       "      <td>0</td>\n",
       "      <td>0</td>\n",
       "      <td>0</td>\n",
       "      <td>...</td>\n",
       "      <td>0</td>\n",
       "      <td>0</td>\n",
       "      <td>1.0</td>\n",
       "      <td>3.0</td>\n",
       "      <td>3.0</td>\n",
       "      <td>2.0</td>\n",
       "      <td>42.0</td>\n",
       "      <td>11.0</td>\n",
       "      <td>4.0</td>\n",
       "      <td>29.76</td>\n",
       "    </tr>\n",
       "  </tbody>\n",
       "</table>\n",
       "<p>5 rows × 266 columns</p>\n",
       "</div>"
      ],
      "text/plain": [
       "   district_1  district_2  district_3  district_4  district_5  district_6  \\\n",
       "0           1           0           0           0           0           0   \n",
       "1           0           1           0           0           0           0   \n",
       "2           0           0           1           0           0           0   \n",
       "3           0           0           0           1           0           0   \n",
       "4           0           0           0           0           1           0   \n",
       "\n",
       "   district_7  district_8  district_9  district_10  ...  ward_231  ward_232  \\\n",
       "0           0           0           0            0  ...         0         0   \n",
       "1           0           0           0            0  ...         0         0   \n",
       "2           0           0           0            0  ...         0         0   \n",
       "3           0           0           0            0  ...         0         0   \n",
       "4           0           0           0            0  ...         0         0   \n",
       "\n",
       "   type_of_housing  legal_paper  floor_num  bedroom_num  area  length  width  \\\n",
       "0              1.0          3.0        4.0          4.0  40.0    10.0    4.0   \n",
       "1              1.0          3.0        5.0          4.0  52.0    12.0    4.2   \n",
       "2              3.0          3.0        5.0          5.0  90.0    18.0    5.0   \n",
       "3              1.0          3.0        4.0          3.0  32.0     6.6    4.5   \n",
       "4              1.0          3.0        3.0          2.0  42.0    11.0    4.0   \n",
       "\n",
       "   price/m2  \n",
       "0     65.00  \n",
       "1     93.27  \n",
       "2    108.89  \n",
       "3     60.94  \n",
       "4     29.76  \n",
       "\n",
       "[5 rows x 266 columns]"
      ]
     },
     "metadata": {},
     "output_type": "display_data"
    },
    {
     "data": {
      "application/javascript": [
       "\n",
       "            setTimeout(function() {\n",
       "                var nbb_cell_id = 15;\n",
       "                var nbb_unformatted_code = \"df = pd.read_csv(\\\"VN_housing_dataset_processed_expert_knowledge.csv\\\")\\n\\nprint(f\\\"{len(df)} instances\\\")\\ndisplay(df.head())\";\n",
       "                var nbb_formatted_code = \"df = pd.read_csv(\\\"VN_housing_dataset_processed_expert_knowledge.csv\\\")\\n\\nprint(f\\\"{len(df)} instances\\\")\\ndisplay(df.head())\";\n",
       "                var nbb_cells = Jupyter.notebook.get_cells();\n",
       "                for (var i = 0; i < nbb_cells.length; ++i) {\n",
       "                    if (nbb_cells[i].input_prompt_number == nbb_cell_id) {\n",
       "                        if (nbb_cells[i].get_text() == nbb_unformatted_code) {\n",
       "                             nbb_cells[i].set_text(nbb_formatted_code);\n",
       "                        }\n",
       "                        break;\n",
       "                    }\n",
       "                }\n",
       "            }, 500);\n",
       "            "
      ],
      "text/plain": [
       "<IPython.core.display.Javascript object>"
      ]
     },
     "metadata": {},
     "output_type": "display_data"
    }
   ],
   "source": [
    "df = pd.read_csv(\"VN_housing_dataset_processed_expert_knowledge.csv\")\n",
    "\n",
    "print(f\"{len(df)} instances\")\n",
    "display(df.head())"
   ]
  }
 ],
 "metadata": {
  "kernelspec": {
   "display_name": "Python 3 (ipykernel)",
   "language": "python",
   "name": "python3"
  },
  "language_info": {
   "codemirror_mode": {
    "name": "ipython",
    "version": 3
   },
   "file_extension": ".py",
   "mimetype": "text/x-python",
   "name": "python",
   "nbconvert_exporter": "python",
   "pygments_lexer": "ipython3",
   "version": "3.9.7"
  }
 },
 "nbformat": 4,
 "nbformat_minor": 5
}
